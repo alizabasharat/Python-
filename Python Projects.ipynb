{
 "cells": [
  {
   "cell_type": "code",
   "execution_count": 5,
   "metadata": {},
   "outputs": [
    {
     "name": "stdout",
     "output_type": "stream",
     "text": [
      "your selected card is : ['Club'] ['Ace']\n"
     ]
    }
   ],
   "source": [
    "#Pick a Random Card using Python\n",
    "\n",
    "import random\n",
    "cards=[\"Diamonds\" ,\"Spade\", \"Hearts\", \"Club\"]\n",
    "ranks=[2,3,4,5,6,7,8,9,10, \"Ace\", \"King\", \"Queen\", \"Jack\"]\n",
    "selectd_card= random.choices(cards)\n",
    "selected_ranks= random.choices(ranks)\n",
    "print(f\"your selected card is :\" , selectd_card , selected_ranks)"
   ]
  },
  {
   "cell_type": "markdown",
   "metadata": {},
   "source": [
    "# Quartile Deviation using Python\n"
   ]
  },
  {
   "cell_type": "code",
   "execution_count": 7,
   "metadata": {},
   "outputs": [
    {
     "name": "stdout",
     "output_type": "stream",
     "text": [
      "[20, 25, 30, 35, 40, 45, 50, 55, 60, 65, 70, 75, 80, 85, 90, 95]\n",
      "Quantlie Q1 is = 38.75\n",
      "Quantlie Q2 is = 57.5\n",
      "Quantlie Q3 is = 76.25\n",
      "18.75\n"
     ]
    }
   ],
   "source": [
    "\n",
    "import numpy as np \n",
    "data= list(range(20,100,5))\n",
    "\n",
    "print(data)\n",
    "\n",
    "Q1= np.quantile(data, 0.25)\n",
    "Q2=np.quantile(data, 0.50)\n",
    "Q3=np.quantile(data, 0.75)\n",
    "\n",
    "print(\"Quantlie Q1 is =\" , Q1)\n",
    "print(\"Quantlie Q2 is =\" , Q2)\n",
    "print(\"Quantlie Q3 is =\" , Q3)\n",
    "\n",
    "def QuartileDeviation(a, b):\n",
    "    return (a - b)/2\n",
    "print(QuartileDeviation(Q3, Q1))"
   ]
  },
  {
   "cell_type": "markdown",
   "metadata": {},
   "source": [
    "# Count Character Occurrences using Python\n"
   ]
  },
  {
   "cell_type": "code",
   "execution_count": 7,
   "metadata": {},
   "outputs": [
    {
     "name": "stdout",
     "output_type": "stream",
     "text": [
      "count is  {'a': 2, 'l': 1, 'i': 1, 'z': 1}\n"
     ]
    }
   ],
   "source": [
    "def count_character(s):\n",
    "    count={}\n",
    "    for i in s:\n",
    "        if i in count:\n",
    "            count[i]+=1\n",
    "        else:\n",
    "            count[i]=1;\n",
    "    print(\"count is \", count)\n",
    "    \n",
    "count_character(\"aliza\")"
   ]
  },
  {
   "cell_type": "markdown",
   "metadata": {},
   "source": [
    "\n",
    "# Pyramid Pattern using Python\n"
   ]
  },
  {
   "cell_type": "code",
   "execution_count": 28,
   "metadata": {},
   "outputs": [
    {
     "name": "stdout",
     "output_type": "stream",
     "text": [
      "                  * \r\n",
      "                 * * \r\n",
      "                * * * \r\n",
      "               * * * * \r\n",
      "              * * * * * \r\n",
      "             * * * * * * \r\n",
      "            * * * * * * * \r\n",
      "           * * * * * * * * \r\n",
      "          * * * * * * * * * \r\n",
      "         * * * * * * * * * * \r\n",
      "None\n"
     ]
    }
   ],
   "source": [
    "def pyramid_pattern(n):\n",
    "    a = 2 * n-2\n",
    "    for i in range(0, n):\n",
    "        for j in range(0, a):\n",
    "            print(end=\" \")\n",
    "        a = a-1\n",
    "        for j in range(0, i+1):\n",
    "            print(\"*\", end=\" \")\n",
    "        print(\"\\r\")\n",
    "print(pyramid_pattern(10))"
   ]
  },
  {
   "cell_type": "markdown",
   "metadata": {},
   "source": [
    "# Sequential Search using Python\n"
   ]
  },
  {
   "cell_type": "code",
   "execution_count": 39,
   "metadata": {},
   "outputs": [
    {
     "name": "stdout",
     "output_type": "stream",
     "text": [
      "found\n"
     ]
    }
   ],
   "source": [
    "def sequential_search(list_, n):\n",
    "    a=0\n",
    "    for i in list_:\n",
    "        if i==n:\n",
    "            print(\"found\")\n",
    "            a= 1\n",
    "    if a==0:\n",
    "        print(\"not found\")\n",
    "sequential_search([1,2,3,4], 2)"
   ]
  },
  {
   "cell_type": "markdown",
   "metadata": {},
   "source": [
    "# Swap Variables using Python"
   ]
  },
  {
   "cell_type": "code",
   "execution_count": 42,
   "metadata": {},
   "outputs": [
    {
     "name": "stdout",
     "output_type": "stream",
     "text": [
      "Value of a and b after swapping is =  20 10\n",
      "values of a and b after swapping is =  20 10\n"
     ]
    }
   ],
   "source": [
    "def swap_values(a,b):\n",
    "    c=a\n",
    "    a=b\n",
    "    b=c\n",
    "    print(\"Value of a and b after swapping is = \" , a, b)\n",
    "swap_values(10,20)\n",
    "\n",
    "\n",
    "def swap_values_2(a,b):\n",
    "    a=a+b\n",
    "    b=a-b\n",
    "    a=a-b\n",
    "    print(\"values of a and b after swapping is = \", a, b)\n",
    "swap_values_2(10,20)"
   ]
  },
  {
   "cell_type": "markdown",
   "metadata": {},
   "source": [
    "# Sort NumPy Arrays using Python\n"
   ]
  },
  {
   "cell_type": "code",
   "execution_count": 43,
   "metadata": {},
   "outputs": [
    {
     "name": "stdout",
     "output_type": "stream",
     "text": [
      "[ 5 18 20 34 87]\n"
     ]
    }
   ],
   "source": [
    "import numpy as np \n",
    "a=np.array([20,18,5,87,34])\n",
    "print(np.sort(a))"
   ]
  },
  {
   "cell_type": "code",
   "execution_count": 4,
   "metadata": {},
   "outputs": [
    {
     "name": "stdout",
     "output_type": "stream",
     "text": [
      "[1, 12, 34, 42, 56, 90]\n"
     ]
    }
   ],
   "source": [
    "import numpy as np\n",
    "def sorting(x):\n",
    "    for i in range(len(x)):\n",
    "        swap = i + np.argmin(x[i:])\n",
    "        (x[i], x[swap]) = (x[swap], x[i])\n",
    "    return x\n",
    "print(sorting([34,12,56,42,90,1]))"
   ]
  },
  {
   "cell_type": "markdown",
   "metadata": {},
   "source": [
    "# Validate Anagrams using Python\n"
   ]
  },
  {
   "cell_type": "code",
   "execution_count": 7,
   "metadata": {},
   "outputs": [
    {
     "name": "stdout",
     "output_type": "stream",
     "text": [
      "True\n"
     ]
    }
   ],
   "source": [
    "def anagram(word1, word2):\n",
    "    word1= word1.lower()\n",
    "    word2= word2.lower()\n",
    "    return sorted(word1)==sorted(word2)\n",
    "print(anagram(\"cinema\", \"iceman\"))"
   ]
  },
  {
   "cell_type": "markdown",
   "metadata": {},
   "source": [
    "# Tabulate Module in Python \n"
   ]
  },
  {
   "cell_type": "code",
   "execution_count": 11,
   "metadata": {},
   "outputs": [
    {
     "name": "stdout",
     "output_type": "stream",
     "text": [
      "Collecting tabulate\n",
      "  Downloading tabulate-0.8.9-py3-none-any.whl (25 kB)\n",
      "Installing collected packages: tabulate\n",
      "Successfully installed tabulate-0.8.9\n",
      "Note: you may need to restart the kernel to use updated packages.\n"
     ]
    }
   ],
   "source": [
    "pip install tabulate\n"
   ]
  },
  {
   "cell_type": "code",
   "execution_count": 18,
   "metadata": {},
   "outputs": [
    {
     "name": "stdout",
     "output_type": "stream",
     "text": [
      "-----  -------\n",
      "Name   Gender\n",
      "Aliza  Females\n",
      "Ali    Male\n",
      "-----  -------\n",
      "+--------+----------+\n",
      "| Name   | Gender   |\n",
      "+========+==========+\n",
      "| Aliza  | Females  |\n",
      "+--------+----------+\n",
      "| Ali    | Male     |\n",
      "+--------+----------+\n",
      "╒════════╤══════════╕\n",
      "│ Name   │ Gender   │\n",
      "╞════════╪══════════╡\n",
      "│ Aliza  │ Females  │\n",
      "├────────┼──────────┤\n",
      "│ Ali    │ Male     │\n",
      "╘════════╧══════════╛\n"
     ]
    }
   ],
   "source": [
    "from tabulate import tabulate\n",
    "data=([\"Name\", \"Gender\"],[\"Aliza\", \"Females\"], [\"Ali\", \"Male\"])\n",
    "print(tabulate(data))\n",
    "print(tabulate(data,  headers='firstrow', tablefmt='grid'))\n",
    "print(tabulate(data,  headers='firstrow', tablefmt='fancy_grid'))"
   ]
  },
  {
   "cell_type": "code",
   "execution_count": 19,
   "metadata": {},
   "outputs": [
    {
     "data": {
      "text/plain": [
       "True"
      ]
     },
     "execution_count": 19,
     "metadata": {},
     "output_type": "execute_result"
    }
   ],
   "source": [
    "def rec_binarySearch(target, sequence, first, last):\n",
    "    if first > last:\n",
    "        return False\n",
    "    else:\n",
    "        mid = (last + first) // 2\n",
    "        if sequence[mid] == target:\n",
    "            return True\n",
    "        elif target < sequence[mid]:\n",
    "            return rec_binarySearch(target, sequence, first, mid-1)\n",
    "        else:\n",
    "            return rec_binarySearch(target, sequence, mid + 1, last)\n",
    "        \n",
    "rec_binarySearch(5,[1,2,3,4,5], 0,4)"
   ]
  },
  {
   "cell_type": "code",
   "execution_count": null,
   "metadata": {},
   "outputs": [],
   "source": []
  },
  {
   "cell_type": "code",
   "execution_count": null,
   "metadata": {},
   "outputs": [],
   "source": []
  }
 ],
 "metadata": {
  "kernelspec": {
   "display_name": "Python 3",
   "language": "python",
   "name": "python3"
  },
  "language_info": {
   "codemirror_mode": {
    "name": "ipython",
    "version": 3
   },
   "file_extension": ".py",
   "mimetype": "text/x-python",
   "name": "python",
   "nbconvert_exporter": "python",
   "pygments_lexer": "ipython3",
   "version": "3.8.5"
  }
 },
 "nbformat": 4,
 "nbformat_minor": 4
}
